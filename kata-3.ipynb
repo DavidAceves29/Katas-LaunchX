{
 "cells": [
  {
   "cell_type": "markdown",
   "metadata": {},
   "source": [
    "#Else-If-Elif"
   ]
  },
  {
   "cell_type": "code",
   "execution_count": 3,
   "metadata": {},
   "outputs": [
    {
     "name": "stdout",
     "output_type": "stream",
     "text": [
      "¡el asteroide se acerca!\n"
     ]
    }
   ],
   "source": [
    "asteroide = 49\n",
    "if asteroide > 25:\n",
    "    print(\"¡el asteroide se acerca!\")\n"
   ]
  },
  {
   "cell_type": "code",
   "execution_count": 4,
   "metadata": {},
   "outputs": [
    {
     "name": "stdout",
     "output_type": "stream",
     "text": [
      "no se puede ver desde aqui compa\n"
     ]
    }
   ],
   "source": [
    "asteroide2 = 19\n",
    "if asteroide2 >= 20:\n",
    "    print(\"peligro nos morimos\")\n",
    "else:\n",
    "    print(\"no se puede ver desde aqui compa\")"
   ]
  },
  {
   "cell_type": "markdown",
   "metadata": {},
   "source": [
    "#Or-And"
   ]
  },
  {
   "cell_type": "code",
   "execution_count": 3,
   "metadata": {},
   "outputs": [
    {
     "name": "stdout",
     "output_type": "stream",
     "text": [
      "arriba hay una estrella fugaz!\n"
     ]
    }
   ],
   "source": [
    "tam =60\n",
    "velocidad = 25\n",
    "if velocidad > 25 and tam > 25:\n",
    "    print(\"¡corran nos morimos!\")\n",
    "elif velocidad >= 20:\n",
    "    print(\"arriba hay una estrella fugaz!\")\n",
    "elif tam < 25:\n",
    "    print(\"siga circulando nada que ver\")"
   ]
  }
 ],
 "metadata": {
  "interpreter": {
   "hash": "1096d96948c228fd0d200fe0224c5b4749dc8f9f8502a0a25bea65f39e17c54a"
  },
  "kernelspec": {
   "display_name": "Python 3.10.2 64-bit",
   "language": "python",
   "name": "python3"
  },
  "language_info": {
   "codemirror_mode": {
    "name": "ipython",
    "version": 3
   },
   "file_extension": ".py",
   "mimetype": "text/x-python",
   "name": "python",
   "nbconvert_exporter": "python",
   "pygments_lexer": "ipython3",
   "version": "3.10.2"
  },
  "orig_nbformat": 4
 },
 "nbformat": 4,
 "nbformat_minor": 2
}
