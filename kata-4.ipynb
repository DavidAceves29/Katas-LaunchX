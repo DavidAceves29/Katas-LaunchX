{
 "cells": [
  {
   "cell_type": "markdown",
   "metadata": {},
   "source": [
    "#Ejercicio 1 tranformar cadenas"
   ]
  },
  {
   "cell_type": "code",
   "execution_count": 3,
   "metadata": {},
   "outputs": [
    {
     "name": "stdout",
     "output_type": "stream",
     "text": [
      " \n",
      " On average, the Moon moves 4cm away from the Earth every year\n",
      "\n",
      " The highest daylight temperature of the Moon is 127 C.\n",
      " \n",
      " On average, the Moon moves 4cm away from the Earth every year\n",
      "\n",
      " The highest daylight temperature of the Moon is 127 Celcius.\n"
     ]
    }
   ],
   "source": [
    "texto = \"\"\"Interesting facts about the Moon. The Moon is Earth's only satellite.\n",
    " There are several interesting facts about the Moon and how it affects life here on Earth.  \n",
    " On average, the Moon moves 4cm away from the Earth every year. \n",
    " This yearly drift is not significant enough to cause immediate effects on Earth. \n",
    " The highest daylight temperature of the Moon is 127 C.\"\"\"\n",
    "textocon = texto.split(\". \")\n",
    "textocon\n",
    "palabras = [\"average\", \"temperature\", \"distance\"]\n",
    "\n",
    "for fact in textocon:\n",
    "    for letras in palabras:\n",
    "        if letras in fact:\n",
    "            print(fact)\n",
    "            break\n",
    "for fact in textocon:\n",
    "    for letras in palabras:\n",
    "        if letras in fact:\n",
    "            print(fact.replace(' C', ' Celcius'))\n",
    "            break"
   ]
  },
  {
   "cell_type": "markdown",
   "metadata": {},
   "source": [
    "#Ejercicio 2 Formatenado cadenas"
   ]
  },
  {
   "cell_type": "code",
   "execution_count": 6,
   "metadata": {},
   "outputs": [
    {
     "name": "stdout",
     "output_type": "stream",
     "text": [
      "-------------------------------------------------- \n",
      "Nombre del planeta: marte\n",
      "Gravedad en Ganimedes: 1.4300000000000002 m/s2\n",
      "-------------------------------------------------- \n",
      "Nombre del planeta: marte\n",
      "Gravedad en Ganimedes: 1.4300000000000002 m/s2\n",
      "\n",
      "Marte y la gravedad Ganimedes\n",
      "\n",
      "Nombre del planeta: marte\n",
      "Gravedad en Ganimedes: 0.00143 m/s2\n",
      "\n"
     ]
    }
   ],
   "source": [
    "planeta = \"marte\"\n",
    "gravedad = 0.00143\n",
    "nombre = \"Ganimedes\"\n",
    "\n",
    "titulo = f\"Marte y la gravedad {nombre}\"\n",
    "plantilla = f\"\"\"{\"-\"*50} \n",
    "Nombre del planeta: {planeta}\n",
    "Gravedad en {nombre}: {gravedad *1000} m/s2\"\"\"\n",
    "\n",
    "union = f\"\"\"{titulo.title()}\n",
    "{plantilla}\n",
    "\"\"\"\n",
    "print(plantilla)\n",
    "\n",
    "planeta = \"marte\"\n",
    "gravedad = 0.00143\n",
    "nombre = \"Ganimedes\"\n",
    "\n",
    "print(plantilla)\n",
    "\n",
    "unionN = \"\"\"\n",
    "Marte y la gravedad {nombre}\n",
    "\n",
    "Nombre del planeta: {planeta}\n",
    "Gravedad en {nombre}: {gravedad} m/s2\n",
    "\"\"\"\n",
    "print(unionN.format(nombre=nombre, planeta=planeta, gravedad=gravedad))"
   ]
  }
 ],
 "metadata": {
  "interpreter": {
   "hash": "1096d96948c228fd0d200fe0224c5b4749dc8f9f8502a0a25bea65f39e17c54a"
  },
  "kernelspec": {
   "display_name": "Python 3.10.2 64-bit",
   "language": "python",
   "name": "python3"
  },
  "language_info": {
   "codemirror_mode": {
    "name": "ipython",
    "version": 3
   },
   "file_extension": ".py",
   "mimetype": "text/x-python",
   "name": "python",
   "nbconvert_exporter": "python",
   "pygments_lexer": "ipython3",
   "version": "3.10.2"
  },
  "orig_nbformat": 4
 },
 "nbformat": 4,
 "nbformat_minor": 2
}
