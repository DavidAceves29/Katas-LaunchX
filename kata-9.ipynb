{
 "cells": [
  {
   "cell_type": "markdown",
   "metadata": {},
   "source": [
    "#Ejercicio 1 Trabajar con argumentos en funciones"
   ]
  },
  {
   "cell_type": "code",
   "execution_count": 1,
   "metadata": {},
   "outputs": [
    {
     "name": "stdout",
     "output_type": "stream",
     "text": [
      "informe de combustible:\n",
      "    Promedio total: 78.33333333333333%\n",
      "    Tanque principal: 80%\n",
      "    Tanque Secundario: 70%\n",
      "    Tanque de hidrogeno: 85% \n",
      "    \n",
      "Informe de combustible:\n",
      "    Promedio total: 78.0%\n",
      "    Tanque principal: 88%\n",
      "    Tanque secundario: 76%\n",
      "    Tanque de hidrogeno: 70%\n",
      "    \n"
     ]
    }
   ],
   "source": [
    "def informe(tanque_principal, tanque_secundario, tanque_hidrogeno):\n",
    "    total_average= (tanque_principal + tanque_secundario + tanque_hidrogeno) / 3\n",
    "    return f\"\"\"informe de combustible:\n",
    "    Promedio total: {total_average}%\n",
    "    Tanque principal: {tanque_principal}%\n",
    "    Tanque Secundario: {tanque_secundario}%\n",
    "    Tanque de hidrogeno: {tanque_hidrogeno}% \n",
    "    \"\"\"\n",
    "print(informe(80,70,85))\n",
    "\n",
    "def promedio(valores): \n",
    "    total = sum(valores)\n",
    "    numero = len(valores)\n",
    "    return total / numero\n",
    "\n",
    "promedio([80,75,81])\n",
    "\n",
    "def informe(tanque_principal, tanque_secundario, tanque_hidrogeno):\n",
    "    total_average = (tanque_principal + tanque_secundario + tanque_hidrogeno) /3 \n",
    "    return f\"\"\"Informe de combustible:\n",
    "    Promedio total: {total_average}%\n",
    "    Tanque principal: {tanque_principal}%\n",
    "    Tanque secundario: {tanque_secundario}%\n",
    "    Tanque de hidrogeno: {tanque_hidrogeno}%\n",
    "    \"\"\"\n",
    "\n",
    "print(informe(88,76,70))"
   ]
  },
  {
   "cell_type": "markdown",
   "metadata": {},
   "source": [
    "#Ejercicio 2 Trabajo con argumentos de palabra clave"
   ]
  },
  {
   "cell_type": "code",
   "execution_count": 5,
   "metadata": {},
   "outputs": [
    {
     "name": "stdout",
     "output_type": "stream",
     "text": [
      "\n",
      "    Mision hacia la Luna\n",
      "    Tiempo de vuelo: 65 minutos\n",
      "    Total de combustimble restante: 500000 galones\n",
      "    \n",
      "\n",
      "    Mision hacia la Luna\n",
      "    Tiempo de vuelo: 76 minutos\n",
      "    Total de combustimble restante: 500000\n",
      "    \n",
      "\n",
      "    Mision hacia la Luna\n",
      "    Tiempo de vuelo: 74 minutos\n",
      "    Total de combustimble restante: 500000\n",
      "    Principal 300000 galones restantes\n",
      "Externo 200000 galones restantes\n",
      "\n"
     ]
    }
   ],
   "source": [
    "def informe_mision(tiempo_lanzamiento, tiempo_vuelo, destino, tanque_externo, tanque_principal):\n",
    "    return f\"\"\"\n",
    "    Mision hacia la {destino}\n",
    "    Tiempo de vuelo: {tiempo_lanzamiento + tiempo_vuelo } minutos\n",
    "    Total de combustimble restante: {tanque_externo + tanque_principal} galones\n",
    "    \"\"\"\n",
    "\n",
    "print(informe_mision(14, 51, \"Luna\", 200000, 300000))\n",
    "\n",
    "def informe_mision(destino, *minutos, **reserva_combustible):\n",
    "    return f\"\"\"\n",
    "    Mision hacia la {destino}\n",
    "    Tiempo de vuelo: {sum(minutos)} minutos\n",
    "    Total de combustimble restante: {sum(reserva_combustible.values())}\n",
    "    \"\"\"\n",
    "\n",
    "print(informe_mision(\"Luna\", 10, 15, 51, Principal=300000, Externo=200000))\n",
    "\n",
    "def informe_mision(destino, *minutos, **reserva_combustible):\n",
    "    reporte = f\"\"\"\n",
    "    Mision hacia la {destino}\n",
    "    Tiempo de vuelo: {sum(minutos)} minutos\n",
    "    Total de combustimble restante: {sum(reserva_combustible.values())}\n",
    "    \"\"\"\n",
    "    for tanque, combus in reserva_combustible.items():\n",
    "        reporte += f\"{tanque} {combus} galones restantes\\n\"\n",
    "    return reporte\n",
    "\n",
    "print(informe_mision(\"Luna\", 8, 11, 55, Principal=300000, Externo=200000))"
   ]
  }
 ],
 "metadata": {
  "interpreter": {
   "hash": "1096d96948c228fd0d200fe0224c5b4749dc8f9f8502a0a25bea65f39e17c54a"
  },
  "kernelspec": {
   "display_name": "Python 3.10.2 64-bit",
   "language": "python",
   "name": "python3"
  },
  "language_info": {
   "codemirror_mode": {
    "name": "ipython",
    "version": 3
   },
   "file_extension": ".py",
   "mimetype": "text/x-python",
   "name": "python",
   "nbconvert_exporter": "python",
   "pygments_lexer": "ipython3",
   "version": "3.10.2"
  },
  "orig_nbformat": 4
 },
 "nbformat": 4,
 "nbformat_minor": 2
}
