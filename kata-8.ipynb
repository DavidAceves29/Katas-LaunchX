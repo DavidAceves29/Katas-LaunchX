{
 "cells": [
  {
   "cell_type": "markdown",
   "metadata": {},
   "source": [
    "#Ejercicio 1 Creación de diccionarios de Python"
   ]
  },
  {
   "cell_type": "code",
   "execution_count": 3,
   "metadata": {},
   "outputs": [
    {
     "name": "stdout",
     "output_type": "stream",
     "text": [
      "marte tiene: 2 lunas\n",
      "marte tiene la circunferencia polar de: 6752\n"
     ]
    }
   ],
   "source": [
    "planeta = {\n",
    "    'nombre del planeta': 'marte',\n",
    "    'lunas' : 2\n",
    "}\n",
    "print(f'{planeta[\"nombre del planeta\"]} tiene: {planeta[\"lunas\"]} lunas')\n",
    "\n",
    "planeta['circunferencia'] = {\n",
    "    'polar' : 6752,\n",
    "    'ecuatorial': 6792\n",
    "}\n",
    "\n",
    "print(f'{planeta[\"nombre del planeta\"]} tiene la circunferencia polar de: {planeta[\"circunferencia\"][\"polar\"]}')"
   ]
  },
  {
   "cell_type": "markdown",
   "metadata": {},
   "source": [
    "#Ejercicio 2 Programación dinámica con diccionarios\n"
   ]
  },
  {
   "cell_type": "code",
   "execution_count": 4,
   "metadata": {},
   "outputs": [
    {
     "name": "stdout",
     "output_type": "stream",
     "text": [
      "El promedio es: 17.833333333333332\n"
     ]
    }
   ],
   "source": [
    "planetas_lunas = {\n",
    "    'mercurio': 0,\n",
    "    'venus': 0,\n",
    "    'tierra': 1,\n",
    "    'marte': 2,\n",
    "    'jupiter': 79,\n",
    "    'saturno': 82,\n",
    "    'urano': 27,\n",
    "    'neptuno': 14,\n",
    "    'pluton' : 5,\n",
    "    'haumea': 2,\n",
    "    'makemake': 1,\n",
    "    'eris': 1\n",
    "}\n",
    "\n",
    "lunas= planetas_lunas.values()\n",
    "planetas = len(planetas_lunas.keys())\n",
    "total_lunas= 0\n",
    "for lunas in lunas:\n",
    "    total_lunas = total_lunas + lunas\n",
    "\n",
    "promedio = total_lunas / planetas\n",
    "print(\"El promedio es:\" ,promedio)"
   ]
  }
 ],
 "metadata": {
  "interpreter": {
   "hash": "1096d96948c228fd0d200fe0224c5b4749dc8f9f8502a0a25bea65f39e17c54a"
  },
  "kernelspec": {
   "display_name": "Python 3.10.2 64-bit",
   "language": "python",
   "name": "python3"
  },
  "language_info": {
   "codemirror_mode": {
    "name": "ipython",
    "version": 3
   },
   "file_extension": ".py",
   "mimetype": "text/x-python",
   "name": "python",
   "nbconvert_exporter": "python",
   "pygments_lexer": "ipython3",
   "version": "3.10.2"
  },
  "orig_nbformat": 4
 },
 "nbformat": 4,
 "nbformat_minor": 2
}
